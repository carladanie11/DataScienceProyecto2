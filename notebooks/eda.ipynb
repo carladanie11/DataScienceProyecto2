{
 "cells": [
  {
   "cell_type": "markdown",
   "metadata": {},
   "source": [
    "# Exploratory Data Analysis (EDA)\n",
    "En este notebook realizaremos un Análisis Exploratorio de Datos (EDA) sobre el sector de telecomunicaciones en Argentina. Los datos fueron obtenidos del ENACOM y contienen información sobre accesos a internet, tecnologías utilizadas, velocidad de conexión y penetración en la población y hogares. El objetivo es identificar patrones y comportamientos en el sector."
   ]
  },
  {
   "cell_type": "code",
   "execution_count": 15,
   "metadata": {},
   "outputs": [],
   "source": [
    "import pandas as pd\n",
    "import seaborn as sns\n",
    "import matplotlib.pyplot as plt\n"
   ]
  },
  {
   "cell_type": "markdown",
   "metadata": {},
   "source": [
    "Comenzaremos con el EDA para realizar el analisis del area clave:   \n",
    "\n",
    "1.1 Penetración del Servicio\n",
    "\n",
    "Objetivo: Evaluar qué tan extendido está el servicio de internet en la población y en los hogares.\n",
    "Hojas relevantes:\n",
    "- Penetración-poblacion\n",
    "- Penetracion-hogares\n",
    "- Penetracion-totales\n",
    "\n",
    "Preguntas clave:\n",
    "¿Qué porcentaje de la población tiene acceso a internet en cada provincia?\n",
    "¿Cómo varía la penetración de internet en los hogares según la región?\n",
    "¿Cuáles son las tendencias en la penetración total a lo largo del tiempo?"
   ]
  },
  {
   "cell_type": "markdown",
   "metadata": {},
   "source": [
    "Pasos:"
   ]
  },
  {
   "cell_type": "markdown",
   "metadata": {},
   "source": [
    "Carga y Exploración Inicial\n",
    "Cargar las hojas Penetración-poblacion, Penetracion-hogares y Penetracion-totales.\n",
    "Inspeccionar las primeras filas, tipos de datos y verificar la presencia de valores faltantes o inconsistencias.\n",
    "\n",
    "Análisis Exploratorio de cada hoja:\n",
    "\n",
    "1.1.1 Penetración en la Población\n",
    "Evaluar qué porcentaje de la población tiene acceso a internet por provincia.\n",
    "Crear un gráfico de barras para visualizar la penetración por provincia.\n",
    "Identificar provincias con mayor y menor acceso.\n",
    "\n",
    "1.1.2 Penetración en los Hogares\n",
    "Evaluar la penetración de internet en hogares por región.\n",
    "Comparar regiones para identificar disparidades.\n",
    "Crear un mapa o gráfico de barras agrupado por región.\n",
    "\n",
    "1.1.3 Tendencias en la Penetración Total\n",
    "Analizar cómo ha evolucionado la penetración de internet en el tiempo.\n",
    "Crear una gráfica de líneas para visualizar las tendencias."
   ]
  },
  {
   "cell_type": "markdown",
   "metadata": {},
   "source": [
    "Carga de Datos y Exploración Inicial"
   ]
  },
  {
   "cell_type": "code",
   "execution_count": 14,
   "metadata": {},
   "outputs": [
    {
     "name": "stdout",
     "output_type": "stream",
     "text": [
      "    Año  Trimestre        Provincia  Accesos por cada 100 hab\n",
      "0  2024          2     Buenos Aires                     27.43\n",
      "1  2024          2  Capital Federal                     47.44\n",
      "2  2024          2        Catamarca                     17.50\n",
      "3  2024          2            Chaco                     11.78\n",
      "4  2024          2           Chubut                     26.46\n",
      "    Año  Trimestre        Provincia  Accesos por cada 100 hogares\n",
      "0  2024          2     Buenos Aires                         79.84\n",
      "1  2024          2  Capital Federal                        116.37\n",
      "2  2024          2        Catamarca                         68.81\n",
      "3  2024          2            Chaco                         44.06\n",
      "4  2024          2           Chubut                         86.33\n",
      "    Año  Trimestre  Accesos por cada 100 hogares  Accesos por cada 100 hab  \\\n",
      "0  2024          2                         78.13                     24.57   \n",
      "1  2024          1                         78.89                     24.79   \n",
      "2  2023          4                         78.56                     24.66   \n",
      "3  2023          3                         77.84                     24.41   \n",
      "4  2023          2                         77.02                     24.14   \n",
      "\n",
      "         Periodo  \n",
      "0   Abr-Jun 2024  \n",
      "1   Ene-Mar 2024  \n",
      "2   Oct-Dic 2023  \n",
      "3  Jul-Sept 2023  \n",
      "4   Abr-Jun 2023  \n",
      "<class 'pandas.core.frame.DataFrame'>\n",
      "RangeIndex: 1000 entries, 0 to 999\n",
      "Data columns (total 4 columns):\n",
      " #   Column                    Non-Null Count  Dtype  \n",
      "---  ------                    --------------  -----  \n",
      " 0   Año                       1000 non-null   int64  \n",
      " 1   Trimestre                 1000 non-null   int64  \n",
      " 2   Provincia                 1000 non-null   object \n",
      " 3   Accesos por cada 100 hab  1000 non-null   float64\n",
      "dtypes: float64(1), int64(2), object(1)\n",
      "memory usage: 31.4+ KB\n",
      "None\n",
      "<class 'pandas.core.frame.DataFrame'>\n",
      "RangeIndex: 1000 entries, 0 to 999\n",
      "Data columns (total 4 columns):\n",
      " #   Column                        Non-Null Count  Dtype  \n",
      "---  ------                        --------------  -----  \n",
      " 0   Año                           1000 non-null   int64  \n",
      " 1   Trimestre                     1000 non-null   int64  \n",
      " 2   Provincia                     1000 non-null   object \n",
      " 3   Accesos por cada 100 hogares  1000 non-null   float64\n",
      "dtypes: float64(1), int64(2), object(1)\n",
      "memory usage: 31.4+ KB\n",
      "None\n",
      "<class 'pandas.core.frame.DataFrame'>\n",
      "RangeIndex: 42 entries, 0 to 41\n",
      "Data columns (total 5 columns):\n",
      " #   Column                        Non-Null Count  Dtype  \n",
      "---  ------                        --------------  -----  \n",
      " 0   Año                           42 non-null     int64  \n",
      " 1   Trimestre                     42 non-null     int64  \n",
      " 2   Accesos por cada 100 hogares  42 non-null     float64\n",
      " 3   Accesos por cada 100 hab      42 non-null     float64\n",
      " 4   Periodo                       42 non-null     object \n",
      "dtypes: float64(2), int64(2), object(1)\n",
      "memory usage: 1.8+ KB\n",
      "None\n"
     ]
    }
   ],
   "source": [
    "# Carga de las hojas relevantes\n",
    "penetracion_poblacion = pd.read_csv(\"Penetracion_poblacion_limpio.csv\")\n",
    "penetracion_hogares = pd.read_csv(\"Penetracion_hogares_limpio.csv\")\n",
    "penetracion_totales = pd.read_csv(\"Penetracion_totales_limpio.csv\")\n",
    "\n",
    "# Vista preliminar\n",
    "print(penetracion_poblacion.head())\n",
    "print(penetracion_hogares.head())\n",
    "print(penetracion_totales.head())\n",
    "\n",
    "# Información general y valores faltantes\n",
    "print(penetracion_poblacion.info())\n",
    "print(penetracion_hogares.info())\n",
    "print(penetracion_totales.info())\n"
   ]
  },
  {
   "cell_type": "code",
   "execution_count": 11,
   "metadata": {},
   "outputs": [
    {
     "name": "stdout",
     "output_type": "stream",
     "text": [
      "['Buenos Aires' 'Capital Federal' 'Catamarca' 'Chaco' 'Chubut' 'Córdoba'\n",
      " 'Corrientes' 'Entre Ríos' 'Formosa' 'Jujuy' 'La Pampa' 'La Rioja'\n",
      " 'Mendoza' 'Misiones' 'Neuquén' 'Río Negro' 'Salta' 'San Juan' 'San Luis'\n",
      " 'Santa Cruz' 'Santa Fe' 'Santiago Del Estero' 'Tierra Del Fuego'\n",
      " 'Tucumán']\n",
      "['Abr-Jun 2024' 'Ene-Mar 2024' 'Oct-Dic 2023' 'Jul-Sept 2023'\n",
      " 'Abr-Jun 2023' 'Ene-Mar 2023' 'Oct-Dic 2022' 'Jul-Sept 2022'\n",
      " 'Abr-Jun 2022' 'Ene-Mar 2022' 'Oct-Dic 2021' 'Jul-Sept 2021'\n",
      " 'Abr-Jun 2021' 'Ene-Mar 2021' 'Oct-Dic 2020' 'Jul-Sept 2020'\n",
      " 'Abr-Jun 2020' 'Ene-Mar 2020' 'Oct-Dic 2019' 'Jul-Sept 2019'\n",
      " 'Abr-Jun 2019' 'Ene-Mar 2019' 'Oct-Dic 2018' 'Jul-Sept 2018'\n",
      " 'Abr-Jun 2018' 'Ene-Mar 2018' 'Oct-Dic 2017' 'Jul-Sept 2017'\n",
      " 'Abr-Jun 2017' 'Ene-Mar 2017' 'Oct-Dic 2016' 'Jul-Sept 2016'\n",
      " 'Abr-Jun 2016' 'Ene-Mar 2016' 'Oct-Dic 2015' 'Jul-Sept 2015'\n",
      " 'Abr-Jun 2015' 'Ene-Mar 2015' 'Oct-Dic 2014' 'Jul-Sept 2014'\n",
      " 'Abr-Jun 2014' 'Ene-Mar 2014']\n",
      "               Año    Trimestre  Accesos por cada 100 hab\n",
      "count  1000.000000  1000.000000               1000.000000\n",
      "mean   2018.800000     2.464000                 15.727248\n",
      "std       3.021445     1.114426                  9.240063\n",
      "min    2014.000000     1.000000                  2.723000\n",
      "25%    2016.000000     1.000000                  9.018188\n",
      "50%    2019.000000     2.000000                 13.674812\n",
      "75%    2021.000000     3.000000                 20.323973\n",
      "max    2024.000000     4.000000                 52.236739\n",
      "               Año    Trimestre  Accesos por cada 100 hogares\n",
      "count  1000.000000  1000.000000                   1000.000000\n",
      "mean   2018.800000     2.464000                     52.794973\n",
      "std       3.021445     1.114426                     24.135063\n",
      "min    2014.000000     1.000000                      9.513970\n",
      "25%    2016.000000     1.000000                     33.957657\n",
      "50%    2019.000000     2.000000                     50.133004\n",
      "75%    2021.000000     3.000000                     67.010861\n",
      "max    2024.000000     4.000000                    124.061394\n",
      "               Año  Trimestre  Accesos por cada 100 hogares  \\\n",
      "count    42.000000  42.000000                     42.000000   \n",
      "mean   2018.761905   2.452381                     63.201813   \n",
      "std       3.074756   1.130560                      9.950321   \n",
      "min    2014.000000   1.000000                     49.545821   \n",
      "25%    2016.000000   1.250000                     53.784644   \n",
      "50%    2019.000000   2.000000                     62.667764   \n",
      "75%    2021.000000   3.000000                     72.527011   \n",
      "max    2024.000000   4.000000                     78.890000   \n",
      "\n",
      "       Accesos por cada 100 hab  \n",
      "count                 42.000000  \n",
      "mean                  19.574600  \n",
      "std                    3.268665  \n",
      "min                   15.050104  \n",
      "25%                   16.519507  \n",
      "50%                   19.395586  \n",
      "75%                   22.603664  \n",
      "max                   24.790000  \n"
     ]
    }
   ],
   "source": [
    "# Verificar valores únicos en columnas clave\n",
    "print(penetracion_poblacion['Provincia'].unique())\n",
    "print(penetracion_totales['Periodo'].unique())\n",
    "\n",
    "# Descripción estadística\n",
    "print(penetracion_poblacion.describe())\n",
    "print(penetracion_hogares.describe())\n",
    "print(penetracion_totales.describe())"
   ]
  },
  {
   "cell_type": "markdown",
   "metadata": {},
   "source": [
    "Análisis de Datos Presentados:\n",
    "Provincias:\n",
    "Las provincias incluidas en los datos son un conjunto representativo de Argentina, como Buenos Aires, Capital Federal, Córdoba, Santa Fe, entre otras, sumando un total de 24 provincias.\n",
    "\n",
    "Periodos:\n",
    "Los periodos están distribuidos de manera trimestral, abarcando desde el primer trimestre de 2014 hasta el segundo trimestre de 2024, lo que permite analizar una década de evolución en los accesos por cada 100 habitantes y por cada 100 hogares.\n",
    "\n",
    "Estadísticas Generales:\n",
    "Datos de Accesos por cada 100 habitantes:\n",
    "Promedio: 15.73 accesos por cada 100 habitantes.\n",
    "Desviación estándar: 9.24, indicando una dispersión significativa.\n",
    "Rango:\n",
    "Mínimo: 2.72 (probablemente en regiones con menor conectividad o al inicio de los periodos).\n",
    "Máximo: 52.23 (en áreas más urbanizadas y en periodos recientes).\n",
    "Datos de Accesos por cada 100 hogares:\n",
    "Promedio: 52.79 accesos por cada 100 hogares.\n",
    "Desviación estándar: 24.13, con un rango amplio.\n",
    "Rango:\n",
    "Mínimo: 9.51 (corresponde a periodos más antiguos o zonas rurales).\n",
    "Máximo: 124.06 (en áreas urbanas con alta densidad de conectividad).\n",
    "Estadísticas por Trimestre (42 observaciones):\n",
    "Estos datos sintetizan la evolución por trimestres:\n",
    "\n",
    "Accesos por cada 100 hogares:\n",
    "Promedio: 63.20, mayor que el promedio general (refleja una tendencia al alza).\n",
    "Mínimo: 49.54, con un crecimiento hasta 78.89 (en trimestres recientes).\n",
    "Accesos por cada 100 habitantes:\n",
    "Promedio: 19.57, más alto que el promedio general, lo que podría indicar una mejora consistente.\n",
    "Rango: De 15.05 a 24.79, con una menor dispersión.\n",
    "Observaciones:\n",
    "Crecimiento Sostenido: Los datos muestran un incremento constante en la conectividad tanto por hogar como por habitante.\n",
    "Brechas Geográficas: Las estadísticas sugieren variaciones significativas entre provincias urbanas y rurales.\n",
    "Tendencias: Es necesario explorar visualizaciones para identificar patrones anuales o trimestrales."
   ]
  },
  {
   "cell_type": "markdown",
   "metadata": {},
   "source": [
    "TODAVIA MO EJECUTE: ESTOY AQUIIII"
   ]
  },
  {
   "cell_type": "markdown",
   "metadata": {},
   "source": [
    "2. Análisis: Penetración de Internet en la Población por Provincia"
   ]
  },
  {
   "cell_type": "code",
   "execution_count": null,
   "metadata": {},
   "outputs": [],
   "source": [
    "import seaborn as sns\n",
    "import matplotlib.pyplot as plt\n",
    "\n",
    "# Filtrar columnas clave\n",
    "penetracion_poblacion_filtered = penetracion_poblacion[[\"Provincia\", \"Accesos por cada 100 hab\"]]\n",
    "\n",
    "# Ordenar para visualización\n",
    "penetracion_poblacion_sorted = penetracion_poblacion_filtered.sort_values(by=\"Accesos por cada 100 hab\", ascending=False)\n",
    "\n",
    "# Gráfico de barras\n",
    "plt.figure(figsize=(12, 6))\n",
    "sns.barplot(data=penetracion_poblacion_sorted, x=\"Provincia\", y=\"Accesos por cada 100 hab\", palette=\"viridis\")\n",
    "plt.xticks(rotation=90)\n",
    "plt.title(\"Accesos por cada 100 habitantes en las provincias\", fontsize=16)\n",
    "plt.ylabel(\"Accesos por cada 100 habitantes\")\n",
    "plt.xlabel(\"Provincia\")\n",
    "plt.tight_layout()\n",
    "plt.show()\n"
   ]
  },
  {
   "cell_type": "markdown",
   "metadata": {},
   "source": [
    "Conclusiones esperadas\n",
    "Provincias con mayor y menor penetración.\n",
    "Detectar si existe una brecha significativa entre regiones."
   ]
  },
  {
   "cell_type": "markdown",
   "metadata": {},
   "source": [
    "3. Análisis: Penetración de Internet en los Hogares por Región"
   ]
  },
  {
   "cell_type": "code",
   "execution_count": null,
   "metadata": {},
   "outputs": [],
   "source": [
    "# Ordenar para visualización\n",
    "penetracion_hogares_sorted = penetracion_hogares.sort_values(by=\"Accesos por cada 100 hogares\", ascending=False)\n",
    "\n",
    "# Gráfico de barras\n",
    "plt.figure(figsize=(10, 6))\n",
    "sns.barplot(data=penetracion_hogares_sorted, x=\"Provincia\", y=\"Accesos por cada 100 hogares\", palette=\"cubehelix\")\n",
    "plt.xticks(rotation=90)\n",
    "plt.title(\"Accesos por cada 100 hogares en las provincias\", fontsize=16)\n",
    "plt.ylabel(\"Accesos por cada 100 hogares\")\n",
    "plt.xlabel(\"Provincia\")\n",
    "plt.tight_layout()\n",
    "plt.show()\n"
   ]
  },
  {
   "cell_type": "markdown",
   "metadata": {},
   "source": [
    "Conclusiones esperadas\n",
    "Provincias con mayor acceso por hogar.\n",
    "Comparativa con el análisis de la población."
   ]
  },
  {
   "cell_type": "markdown",
   "metadata": {},
   "source": [
    "4. Tendencias de Penetración Total a lo Largo del Tiempo"
   ]
  },
  {
   "cell_type": "code",
   "execution_count": null,
   "metadata": {},
   "outputs": [],
   "source": [
    "# Gráfico de línea para tendencias\n",
    "plt.figure(figsize=(12, 6))\n",
    "sns.lineplot(data=penetracion_totales, x=\"Periodo\", y=\"Accesos por cada 100 hogares\", marker=\"o\", label=\"Hogares\", color=\"blue\")\n",
    "sns.lineplot(data=penetracion_totales, x=\"Periodo\", y=\"Accesos por cada 100 hab\", marker=\"o\", label=\"Habitantes\", color=\"green\")\n",
    "plt.title(\"Tendencias de Accesos por cada 100 hogares y habitantes\", fontsize=16)\n",
    "plt.ylabel(\"Accesos por cada 100\")\n",
    "plt.xlabel(\"Periodo\")\n",
    "plt.xticks(rotation=45)\n",
    "plt.legend()\n",
    "plt.grid(True)\n",
    "plt.tight_layout()\n",
    "plt.show()\n"
   ]
  },
  {
   "cell_type": "markdown",
   "metadata": {},
   "source": [
    "Conclusiones esperadas\n",
    "Identificación de tendencias a largo plazo.\n",
    "Comparación entre hogares y población."
   ]
  },
  {
   "cell_type": "markdown",
   "metadata": {},
   "source": [
    "5. Verificación de Valores Faltantes y Registros Duplicados"
   ]
  },
  {
   "cell_type": "code",
   "execution_count": null,
   "metadata": {},
   "outputs": [],
   "source": [
    "# Verificar valores faltantes\n",
    "print(penetracion_poblacion.isnull().sum())\n",
    "print(penetracion_hogares.isnull().sum())\n",
    "print(penetracion_totales.isnull().sum())\n",
    "\n",
    "# Verificar registros duplicados\n",
    "print(penetracion_poblacion.duplicated().sum())\n",
    "print(penetracion_hogares.duplicated().sum())\n",
    "print(penetracion_totales.duplicated().sum())\n"
   ]
  },
  {
   "cell_type": "markdown",
   "metadata": {},
   "source": [
    "Conclusiones esperadas\n",
    "Confirmar si es necesario realizar imputaciones o limpiezas.\n",
    "Identificar y eliminar duplicados si los hay."
   ]
  },
  {
   "cell_type": "markdown",
   "metadata": {},
   "source": [
    "Entrega Final\n",
    "El notebook incluirá celdas Markdown con explicaciones claras para cada paso, resúmenes de los análisis y gráficos generados. Esto garantizará un entregable prolijo y útil para la toma de decisiones."
   ]
  }
 ],
 "metadata": {
  "kernelspec": {
   "display_name": "dataAnalist",
   "language": "python",
   "name": "python3"
  },
  "language_info": {
   "codemirror_mode": {
    "name": "ipython",
    "version": 3
   },
   "file_extension": ".py",
   "mimetype": "text/x-python",
   "name": "python",
   "nbconvert_exporter": "python",
   "pygments_lexer": "ipython3",
   "version": "3.11.10"
  }
 },
 "nbformat": 4,
 "nbformat_minor": 2
}
